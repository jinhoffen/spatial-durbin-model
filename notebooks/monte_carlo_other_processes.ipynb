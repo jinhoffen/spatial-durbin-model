{
 "cells": [
  {
   "cell_type": "markdown",
   "id": "09665738",
   "metadata": {},
   "source": [
    "# Monte Carlo Simulation"
   ]
  },
  {
   "cell_type": "code",
   "execution_count": null,
   "id": "bc315f58",
   "metadata": {},
   "outputs": [],
   "source": [
    "import matplotlib.pyplot as plt \n",
    "import numpy as np\n",
    "import sdm"
   ]
  },
  {
   "cell_type": "markdown",
   "id": "25fe425b",
   "metadata": {},
   "source": [
    "# Define model"
   ]
  },
  {
   "cell_type": "code",
   "execution_count": null,
   "id": "1efa871e",
   "metadata": {},
   "outputs": [],
   "source": [
    "# define adjacency matrix\n",
    "matrix = np.array([\n",
    "    [0,1,1,0,1,1,0,0],\n",
    "    [1,0,1,0,1,1,1,0],\n",
    "    [1,1,0,1,1,0,0,0],\n",
    "    [0,0,1,0,0,0,1,0],\n",
    "    [1,1,1,0,0,0,0,0],\n",
    "    [1,1,0,0,0,0,1,0],\n",
    "    [0,1,0,1,0,0,0,0],\n",
    "    [0,0,1,0,0,1,0,0],\n",
    "])"
   ]
  },
  {
   "cell_type": "code",
   "execution_count": null,
   "id": "3284520b",
   "metadata": {},
   "outputs": [],
   "source": [
    "# define parameters of filter dgp\n",
    "process = \"static\"\n",
    "\n",
    "# works\n",
    "if process == \"static\":\n",
    "    params_filter = {\n",
    "        \"vOmega\": np.array([0.05, 0.08])\n",
    "    }\n",
    "# does not work\n",
    "elif process == \"step\":\n",
    "    params_filter = {\n",
    "        \"vOmega1\": np.array([0.8, 0.5]),\n",
    "        \"vOmega2\": np.array([0.5, 0.8])\n",
    "    }\n",
    "# kind of works?\n",
    "elif process == \"ramp\":\n",
    "    params_filter = {\n",
    "        \"vBreakpoint\": np.array([3, 2]),\n",
    "        \"vBounds\": np.array([0.7, 0.9])\n",
    "    }"
   ]
  },
  {
   "cell_type": "code",
   "execution_count": null,
   "id": "d37d6864",
   "metadata": {},
   "outputs": [],
   "source": [
    "# define parameters of observation dgp\n",
    "params_observation = {\n",
    "    \"vBeta\": np.array([1.5]),\n",
    "    \"dSigma2\": np.array([2.0])\n",
    "}"
   ]
  },
  {
   "cell_type": "code",
   "execution_count": null,
   "id": "2ee6a579",
   "metadata": {},
   "outputs": [],
   "source": [
    "# define time series length\n",
    "iT = 1000"
   ]
  },
  {
   "cell_type": "code",
   "execution_count": null,
   "id": "3b923d4a",
   "metadata": {},
   "outputs": [],
   "source": [
    "# infer model size\n",
    "iN, _ = matrix.shape\n",
    "iI = 2\n",
    "iK = len(params_observation[\"vBeta\"])"
   ]
  },
  {
   "cell_type": "code",
   "execution_count": null,
   "id": "eb32046d",
   "metadata": {},
   "outputs": [],
   "source": [
    "# define configurations for the spatial gas model\n",
    "model = sdm.SpatialGasModel(\"mvnorm\", \"identity\", 0.99)"
   ]
  },
  {
   "cell_type": "code",
   "execution_count": null,
   "id": "f75d5a11",
   "metadata": {},
   "outputs": [],
   "source": [
    "# simulate covariates\n",
    "mmX = sdm.covariates.simulate(iT, iN, iK)"
   ]
  },
  {
   "cell_type": "code",
   "execution_count": null,
   "id": "fb69043e",
   "metadata": {},
   "outputs": [],
   "source": [
    "# add adjacency matrix and build iT x iN x iN weighting matrix\n",
    "adjacency_matrix = sdm.AdjacencyMatrix()\n",
    "adjacency_matrix.add(0, iT, matrix)\n",
    "mmW = adjacency_matrix.build()"
   ]
  },
  {
   "cell_type": "markdown",
   "id": "716b50b3",
   "metadata": {},
   "source": [
    "# Monte Carlo Simulation"
   ]
  },
  {
   "cell_type": "markdown",
   "id": "5d9843b3",
   "metadata": {},
   "source": [
    "## Simulate and Estimate"
   ]
  },
  {
   "cell_type": "code",
   "execution_count": null,
   "id": "b4ac5584",
   "metadata": {},
   "outputs": [],
   "source": [
    "# initialize\n",
    "iB = 5\n",
    "\n",
    "# instantiate experiment\n",
    "monte_carlo = sdm.MonteCarlo(params_observation, params_filter, \"dynamic_heterogenous\")\n",
    "\n",
    "for b in range(iB):\n",
    "    # status\n",
    "    print(f\"Iteration: {b+1}\", end=\"\\r\")\n",
    "    # simulate model\n",
    "    model_sim = model.simulate(mmX, mmW, params_filter, params_observation, process)\n",
    "    # estimate the model\n",
    "    model_fit = model.estimate(model_sim.mY, mmX, mmW, iI, \"dynamic_heterogenous\")\n",
    "    # store result\n",
    "    monte_carlo.add(model_fit.params, model_sim.mRho, model_fit.mRho, model_fit.convergence, model_fit.elapsed_time)"
   ]
  },
  {
   "cell_type": "markdown",
   "id": "e7f3faac",
   "metadata": {},
   "source": [
    "# Result"
   ]
  },
  {
   "cell_type": "markdown",
   "id": "afec49e0",
   "metadata": {},
   "source": [
    "## Spatial dependence plots"
   ]
  },
  {
   "cell_type": "code",
   "execution_count": null,
   "id": "c29fda29",
   "metadata": {},
   "outputs": [],
   "source": [
    "# setting\n",
    "lb = 0.05\n",
    "ub = 1-0.05\n",
    "\n",
    "# compute average of simulated mRho\n",
    "simulated = np.median(monte_carlo.rho_simulated, axis=0)\n",
    "\n",
    "# compute quantiles of filtered spatial dependence\n",
    "estimated_median = np.median(monte_carlo.rho_estimated, axis=0)\n",
    "estimated_lb = np.quantile(monte_carlo.rho_estimated, lb, axis=0)\n",
    "estimated_ub = np.quantile(monte_carlo.rho_estimated, ub, axis=0)\n",
    "\n",
    "# infer model size\n",
    "iT, iP = simulated.shape\n",
    "time_periods = np.arange(iT)\n",
    "\n",
    "# setup plot\n",
    "fig, axs = plt.subplots(figsize=(10,6), nrows=iP, sharex=True)\n",
    "\n",
    "# spatial parameter\n",
    "for i in range(iP):\n",
    "    axs[i].plot(time_periods, estimated_ub[:iT,i], color=\"green\", linestyle=\"solid\", linewidth=0.8)\n",
    "    axs[i].plot(time_periods, estimated_lb[:iT,i], color=\"green\", linestyle=\"solid\", linewidth=0.8)\n",
    "    axs[i].plot(time_periods, estimated_median[:iT,i], color=\"red\", linestyle=\"dashed\", linewidth=0.8)\n",
    "    axs[i].plot(time_periods, simulated[:iT,i], color=\"black\", linestyle=\"solid\", linewidth=0.8)\n",
    "\n",
    "# axis\n",
    "for i in range(iP):\n",
    "    axs[i].set_title(r\"$\\rho_{}$\".format(i))\n",
    "    axs[i].grid(True)\n",
    "    axs[i].set_xlim(0,iT)\n",
    "\n",
    "fig.tight_layout()"
   ]
  },
  {
   "cell_type": "markdown",
   "id": "4ba9093a",
   "metadata": {},
   "source": [
    "## Density plots"
   ]
  },
  {
   "cell_type": "code",
   "execution_count": null,
   "id": "7ad35604",
   "metadata": {},
   "outputs": [],
   "source": [
    "if monte_carlo.nparams % 3 == 0:\n",
    "    fig, axs = plt.subplots(figsize=(10,9), nrows=int(monte_carlo.nparams / 3), ncols=3)\n",
    "else:\n",
    "    fig, axs = plt.subplots(figsize=(10,9), nrows=int(monte_carlo.nparams / 3 + 1), ncols=3)\n",
    "\n",
    "# get frame\n",
    "df = monte_carlo.params_est\n",
    "\n",
    "# plot by parameter\n",
    "columns = df.columns\n",
    "\n",
    "for plot_id, ax in enumerate(axs.flatten()[:len(df.columns)]):\n",
    "    # draw estimates' density and true value\n",
    "    df.iloc[:,plot_id].plot(\n",
    "        kind=\"density\",\n",
    "        ax=ax,\n",
    "        color=\"blue\",\n",
    "        linewidth=0.8,\n",
    "        label=r\"$T = {}$\".format(monte_carlo.size)\n",
    "    )\n",
    "    # hide yaxis label\n",
    "    ax.yaxis.label.set_visible(False)\n",
    "    # set title\n",
    "    param_label, param_id = df.columns[plot_id]\n",
    "    label = {\n",
    "        \"vOmega\": \"\\\\omega\",\n",
    "        \"vA\": \"A\",\n",
    "        \"vB\": \"B\",\n",
    "        \"vBeta\": \"\\\\beta\",\n",
    "        \"dSigma2\": \"\\\\sigma^2\"\n",
    "    }\n",
    "    title = r\"${}_{}$\".format(label[param_label], param_id)\n",
    "    ax.set_title(title)\n",
    "\n",
    "# legend\n",
    "axs[0,0].legend(frameon=False, loc=\"upper right\")\n",
    "\n",
    "fig.tight_layout()\n",
    "\n",
    "plt.show()"
   ]
  }
 ],
 "metadata": {
  "kernelspec": {
   "display_name": "gasmodel",
   "language": "python",
   "name": "gasmodel"
  },
  "language_info": {
   "codemirror_mode": {
    "name": "ipython",
    "version": 3
   },
   "file_extension": ".py",
   "mimetype": "text/x-python",
   "name": "python",
   "nbconvert_exporter": "python",
   "pygments_lexer": "ipython3",
   "version": "3.9.16"
  }
 },
 "nbformat": 4,
 "nbformat_minor": 5
}
